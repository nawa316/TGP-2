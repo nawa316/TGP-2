{
 "cells": [
  {
   "cell_type": "markdown",
   "metadata": {
    "_cell_guid": "fbac1527-113f-4d3d-8927-ccff16f5d9e5",
    "_uuid": "588e87a6-56e0-4322-884a-d4e6dcbd595a",
    "collapsed": false,
    "jupyter": {
     "outputs_hidden": false
    },
    "trusted": true
   },
   "source": [
    "# Exploratory Data Analysis"
   ]
  },
  {
   "cell_type": "markdown",
   "metadata": {
    "_cell_guid": "2c5452e3-20a8-493e-9dec-d050d1df10ec",
    "_uuid": "1d65e218-284a-4da6-a60d-f4b46608d77e",
    "collapsed": false,
    "jupyter": {
     "outputs_hidden": false
    },
    "trusted": true
   },
   "source": [
    "## Import Dataset"
   ]
  },
  {
   "cell_type": "code",
   "execution_count": 1,
   "metadata": {
    "_cell_guid": "5c8c4d64-8ef7-4f50-9445-93ceb278f324",
    "_uuid": "3571b0a6-c709-483c-9c05-cc7a3041ab96",
    "collapsed": false,
    "jupyter": {
     "outputs_hidden": false
    },
    "trusted": true
   },
   "outputs": [
    {
     "data": {
      "text/html": [
       "<div>\n",
       "<style scoped>\n",
       "    .dataframe tbody tr th:only-of-type {\n",
       "        vertical-align: middle;\n",
       "    }\n",
       "\n",
       "    .dataframe tbody tr th {\n",
       "        vertical-align: top;\n",
       "    }\n",
       "\n",
       "    .dataframe thead th {\n",
       "        text-align: right;\n",
       "    }\n",
       "</style>\n",
       "<table border=\"1\" class=\"dataframe\">\n",
       "  <thead>\n",
       "    <tr style=\"text-align: right;\">\n",
       "      <th></th>\n",
       "      <th>SK_ID_CURR</th>\n",
       "      <th>TARGET</th>\n",
       "      <th>NAME_CONTRACT_TYPE</th>\n",
       "      <th>CODE_GENDER</th>\n",
       "      <th>FLAG_OWN_CAR</th>\n",
       "      <th>FLAG_OWN_REALTY</th>\n",
       "      <th>CNT_CHILDREN</th>\n",
       "      <th>AMT_INCOME_TOTAL</th>\n",
       "      <th>AMT_CREDIT</th>\n",
       "      <th>AMT_ANNUITY</th>\n",
       "      <th>...</th>\n",
       "      <th>FLAG_DOCUMENT_18</th>\n",
       "      <th>FLAG_DOCUMENT_19</th>\n",
       "      <th>FLAG_DOCUMENT_20</th>\n",
       "      <th>FLAG_DOCUMENT_21</th>\n",
       "      <th>AMT_REQ_CREDIT_BUREAU_HOUR</th>\n",
       "      <th>AMT_REQ_CREDIT_BUREAU_DAY</th>\n",
       "      <th>AMT_REQ_CREDIT_BUREAU_WEEK</th>\n",
       "      <th>AMT_REQ_CREDIT_BUREAU_MON</th>\n",
       "      <th>AMT_REQ_CREDIT_BUREAU_QRT</th>\n",
       "      <th>AMT_REQ_CREDIT_BUREAU_YEAR</th>\n",
       "    </tr>\n",
       "  </thead>\n",
       "  <tbody>\n",
       "    <tr>\n",
       "      <th>0</th>\n",
       "      <td>100002</td>\n",
       "      <td>1</td>\n",
       "      <td>Cash loans</td>\n",
       "      <td>M</td>\n",
       "      <td>N</td>\n",
       "      <td>Y</td>\n",
       "      <td>0</td>\n",
       "      <td>202500.0</td>\n",
       "      <td>406597.5</td>\n",
       "      <td>24700.5</td>\n",
       "      <td>...</td>\n",
       "      <td>0</td>\n",
       "      <td>0</td>\n",
       "      <td>0</td>\n",
       "      <td>0</td>\n",
       "      <td>0.0</td>\n",
       "      <td>0.0</td>\n",
       "      <td>0.0</td>\n",
       "      <td>0.0</td>\n",
       "      <td>0.0</td>\n",
       "      <td>1.0</td>\n",
       "    </tr>\n",
       "    <tr>\n",
       "      <th>1</th>\n",
       "      <td>100003</td>\n",
       "      <td>0</td>\n",
       "      <td>Cash loans</td>\n",
       "      <td>F</td>\n",
       "      <td>N</td>\n",
       "      <td>N</td>\n",
       "      <td>0</td>\n",
       "      <td>270000.0</td>\n",
       "      <td>1293502.5</td>\n",
       "      <td>35698.5</td>\n",
       "      <td>...</td>\n",
       "      <td>0</td>\n",
       "      <td>0</td>\n",
       "      <td>0</td>\n",
       "      <td>0</td>\n",
       "      <td>0.0</td>\n",
       "      <td>0.0</td>\n",
       "      <td>0.0</td>\n",
       "      <td>0.0</td>\n",
       "      <td>0.0</td>\n",
       "      <td>0.0</td>\n",
       "    </tr>\n",
       "    <tr>\n",
       "      <th>2</th>\n",
       "      <td>100004</td>\n",
       "      <td>0</td>\n",
       "      <td>Revolving loans</td>\n",
       "      <td>M</td>\n",
       "      <td>Y</td>\n",
       "      <td>Y</td>\n",
       "      <td>0</td>\n",
       "      <td>67500.0</td>\n",
       "      <td>135000.0</td>\n",
       "      <td>6750.0</td>\n",
       "      <td>...</td>\n",
       "      <td>0</td>\n",
       "      <td>0</td>\n",
       "      <td>0</td>\n",
       "      <td>0</td>\n",
       "      <td>0.0</td>\n",
       "      <td>0.0</td>\n",
       "      <td>0.0</td>\n",
       "      <td>0.0</td>\n",
       "      <td>0.0</td>\n",
       "      <td>0.0</td>\n",
       "    </tr>\n",
       "    <tr>\n",
       "      <th>3</th>\n",
       "      <td>100006</td>\n",
       "      <td>0</td>\n",
       "      <td>Cash loans</td>\n",
       "      <td>F</td>\n",
       "      <td>N</td>\n",
       "      <td>Y</td>\n",
       "      <td>0</td>\n",
       "      <td>135000.0</td>\n",
       "      <td>312682.5</td>\n",
       "      <td>29686.5</td>\n",
       "      <td>...</td>\n",
       "      <td>0</td>\n",
       "      <td>0</td>\n",
       "      <td>0</td>\n",
       "      <td>0</td>\n",
       "      <td>NaN</td>\n",
       "      <td>NaN</td>\n",
       "      <td>NaN</td>\n",
       "      <td>NaN</td>\n",
       "      <td>NaN</td>\n",
       "      <td>NaN</td>\n",
       "    </tr>\n",
       "    <tr>\n",
       "      <th>4</th>\n",
       "      <td>100007</td>\n",
       "      <td>0</td>\n",
       "      <td>Cash loans</td>\n",
       "      <td>M</td>\n",
       "      <td>N</td>\n",
       "      <td>Y</td>\n",
       "      <td>0</td>\n",
       "      <td>121500.0</td>\n",
       "      <td>513000.0</td>\n",
       "      <td>21865.5</td>\n",
       "      <td>...</td>\n",
       "      <td>0</td>\n",
       "      <td>0</td>\n",
       "      <td>0</td>\n",
       "      <td>0</td>\n",
       "      <td>0.0</td>\n",
       "      <td>0.0</td>\n",
       "      <td>0.0</td>\n",
       "      <td>0.0</td>\n",
       "      <td>0.0</td>\n",
       "      <td>0.0</td>\n",
       "    </tr>\n",
       "  </tbody>\n",
       "</table>\n",
       "<p>5 rows × 122 columns</p>\n",
       "</div>"
      ],
      "text/plain": [
       "   SK_ID_CURR  TARGET NAME_CONTRACT_TYPE CODE_GENDER FLAG_OWN_CAR  \\\n",
       "0      100002       1         Cash loans           M            N   \n",
       "1      100003       0         Cash loans           F            N   \n",
       "2      100004       0    Revolving loans           M            Y   \n",
       "3      100006       0         Cash loans           F            N   \n",
       "4      100007       0         Cash loans           M            N   \n",
       "\n",
       "  FLAG_OWN_REALTY  CNT_CHILDREN  AMT_INCOME_TOTAL  AMT_CREDIT  AMT_ANNUITY  \\\n",
       "0               Y             0          202500.0    406597.5      24700.5   \n",
       "1               N             0          270000.0   1293502.5      35698.5   \n",
       "2               Y             0           67500.0    135000.0       6750.0   \n",
       "3               Y             0          135000.0    312682.5      29686.5   \n",
       "4               Y             0          121500.0    513000.0      21865.5   \n",
       "\n",
       "   ...  FLAG_DOCUMENT_18 FLAG_DOCUMENT_19 FLAG_DOCUMENT_20 FLAG_DOCUMENT_21  \\\n",
       "0  ...                 0                0                0                0   \n",
       "1  ...                 0                0                0                0   \n",
       "2  ...                 0                0                0                0   \n",
       "3  ...                 0                0                0                0   \n",
       "4  ...                 0                0                0                0   \n",
       "\n",
       "  AMT_REQ_CREDIT_BUREAU_HOUR AMT_REQ_CREDIT_BUREAU_DAY  \\\n",
       "0                        0.0                       0.0   \n",
       "1                        0.0                       0.0   \n",
       "2                        0.0                       0.0   \n",
       "3                        NaN                       NaN   \n",
       "4                        0.0                       0.0   \n",
       "\n",
       "   AMT_REQ_CREDIT_BUREAU_WEEK  AMT_REQ_CREDIT_BUREAU_MON  \\\n",
       "0                         0.0                        0.0   \n",
       "1                         0.0                        0.0   \n",
       "2                         0.0                        0.0   \n",
       "3                         NaN                        NaN   \n",
       "4                         0.0                        0.0   \n",
       "\n",
       "   AMT_REQ_CREDIT_BUREAU_QRT  AMT_REQ_CREDIT_BUREAU_YEAR  \n",
       "0                        0.0                         1.0  \n",
       "1                        0.0                         0.0  \n",
       "2                        0.0                         0.0  \n",
       "3                        NaN                         NaN  \n",
       "4                        0.0                         0.0  \n",
       "\n",
       "[5 rows x 122 columns]"
      ]
     },
     "execution_count": 1,
     "metadata": {},
     "output_type": "execute_result"
    }
   ],
   "source": [
    "import warnings\n",
    "warnings.filterwarnings(\"ignore\", category=RuntimeWarning)\n",
    "\n",
    "import pandas as pd\n",
    "\n",
    "# Load application data\n",
    "df = pd.read_csv('application_train.csv')\n",
    "\n",
    "# Display first few rows\n",
    "df.head()"
   ]
  },
  {
   "cell_type": "markdown",
   "metadata": {
    "_cell_guid": "0785aee1-2412-460d-8cf3-e9d23c4e2e20",
    "_uuid": "65d2edde-0afa-433a-b4a8-a5113d4022ca",
    "collapsed": false,
    "jupyter": {
     "outputs_hidden": false
    },
    "trusted": true
   },
   "source": [
    "## Struktur Dataset"
   ]
  },
  {
   "cell_type": "code",
   "execution_count": 2,
   "metadata": {
    "_cell_guid": "23a313ea-ff8c-4e34-b059-3b6c01f3932b",
    "_uuid": "aaf1bf45-0c8c-4f8e-b46b-597f95aa9a3c",
    "collapsed": false,
    "jupyter": {
     "outputs_hidden": false
    },
    "trusted": true
   },
   "outputs": [
    {
     "name": "stdout",
     "output_type": "stream",
     "text": [
      "5 Baris Pertama Dataset Home Credit:\n",
      "   SK_ID_CURR  TARGET NAME_CONTRACT_TYPE CODE_GENDER FLAG_OWN_CAR  \\\n",
      "0      100002       1         Cash loans           M            N   \n",
      "1      100003       0         Cash loans           F            N   \n",
      "2      100004       0    Revolving loans           M            Y   \n",
      "3      100006       0         Cash loans           F            N   \n",
      "4      100007       0         Cash loans           M            N   \n",
      "\n",
      "  FLAG_OWN_REALTY  CNT_CHILDREN  AMT_INCOME_TOTAL  AMT_CREDIT  AMT_ANNUITY  \\\n",
      "0               Y             0          202500.0    406597.5      24700.5   \n",
      "1               N             0          270000.0   1293502.5      35698.5   \n",
      "2               Y             0           67500.0    135000.0       6750.0   \n",
      "3               Y             0          135000.0    312682.5      29686.5   \n",
      "4               Y             0          121500.0    513000.0      21865.5   \n",
      "\n",
      "   ...  FLAG_DOCUMENT_18 FLAG_DOCUMENT_19 FLAG_DOCUMENT_20 FLAG_DOCUMENT_21  \\\n",
      "0  ...                 0                0                0                0   \n",
      "1  ...                 0                0                0                0   \n",
      "2  ...                 0                0                0                0   \n",
      "3  ...                 0                0                0                0   \n",
      "4  ...                 0                0                0                0   \n",
      "\n",
      "  AMT_REQ_CREDIT_BUREAU_HOUR AMT_REQ_CREDIT_BUREAU_DAY  \\\n",
      "0                        0.0                       0.0   \n",
      "1                        0.0                       0.0   \n",
      "2                        0.0                       0.0   \n",
      "3                        NaN                       NaN   \n",
      "4                        0.0                       0.0   \n",
      "\n",
      "   AMT_REQ_CREDIT_BUREAU_WEEK  AMT_REQ_CREDIT_BUREAU_MON  \\\n",
      "0                         0.0                        0.0   \n",
      "1                         0.0                        0.0   \n",
      "2                         0.0                        0.0   \n",
      "3                         NaN                        NaN   \n",
      "4                         0.0                        0.0   \n",
      "\n",
      "   AMT_REQ_CREDIT_BUREAU_QRT  AMT_REQ_CREDIT_BUREAU_YEAR  \n",
      "0                        0.0                         1.0  \n",
      "1                        0.0                         0.0  \n",
      "2                        0.0                         0.0  \n",
      "3                        NaN                         NaN  \n",
      "4                        0.0                         0.0  \n",
      "\n",
      "[5 rows x 122 columns]\n",
      "\n",
      "Informasi Dataset:\n",
      "<class 'pandas.core.frame.DataFrame'>\n",
      "RangeIndex: 307511 entries, 0 to 307510\n",
      "Columns: 122 entries, SK_ID_CURR to AMT_REQ_CREDIT_BUREAU_YEAR\n",
      "dtypes: float64(65), int64(41), object(16)\n",
      "memory usage: 286.2+ MB\n",
      "None\n",
      "\n",
      "Jumlah Baris: 307511, Jumlah Kolom: 122\n",
      "\n",
      "Tipe Data Setiap Kolom:\n",
      "SK_ID_CURR                      int64\n",
      "TARGET                          int64\n",
      "NAME_CONTRACT_TYPE             object\n",
      "CODE_GENDER                    object\n",
      "FLAG_OWN_CAR                   object\n",
      "                               ...   \n",
      "AMT_REQ_CREDIT_BUREAU_DAY     float64\n",
      "AMT_REQ_CREDIT_BUREAU_WEEK    float64\n",
      "AMT_REQ_CREDIT_BUREAU_MON     float64\n",
      "AMT_REQ_CREDIT_BUREAU_QRT     float64\n",
      "AMT_REQ_CREDIT_BUREAU_YEAR    float64\n",
      "Length: 122, dtype: object\n",
      "\n",
      "Jumlah Nilai yang Hilang per Kolom:\n",
      "SK_ID_CURR                        0\n",
      "TARGET                            0\n",
      "NAME_CONTRACT_TYPE                0\n",
      "CODE_GENDER                       0\n",
      "FLAG_OWN_CAR                      0\n",
      "                              ...  \n",
      "AMT_REQ_CREDIT_BUREAU_DAY     41519\n",
      "AMT_REQ_CREDIT_BUREAU_WEEK    41519\n",
      "AMT_REQ_CREDIT_BUREAU_MON     41519\n",
      "AMT_REQ_CREDIT_BUREAU_QRT     41519\n",
      "AMT_REQ_CREDIT_BUREAU_YEAR    41519\n",
      "Length: 122, dtype: int64\n"
     ]
    }
   ],
   "source": [
    "# Menampilkan 5 baris pertama dataset\n",
    "print(\"5 Baris Pertama Dataset Home Credit:\")\n",
    "print(df.head())\n",
    "\n",
    "# Menampilkan informasi dasar tentang dataset\n",
    "print(\"\\nInformasi Dataset:\")\n",
    "print(df.info())\n",
    "\n",
    "# Menampilkan jumlah baris dan kolom\n",
    "print(f\"\\nJumlah Baris: {df.shape[0]}, Jumlah Kolom: {df.shape[1]}\")\n",
    "\n",
    "# Menampilkan tipe data setiap kolom\n",
    "print(\"\\nTipe Data Setiap Kolom:\")\n",
    "print(df.dtypes)\n",
    "\n",
    "# Menampilkan jumlah nilai yang hilang per kolom\n",
    "print(\"\\nJumlah Nilai yang Hilang per Kolom:\")\n",
    "print(df.isnull().sum())"
   ]
  },
  {
   "cell_type": "markdown",
   "metadata": {
    "_cell_guid": "8431e062-3c40-4577-9d67-0c253d860316",
    "_uuid": "69daf887-6ca6-4d34-b764-b4a329c179b9",
    "collapsed": false,
    "jupyter": {
     "outputs_hidden": false
    },
    "trusted": true
   },
   "source": [
    "# Penanganan Missing Values dan Data Cleaning"
   ]
  },
  {
   "cell_type": "markdown",
   "metadata": {
    "_cell_guid": "b45cd49f-a8e1-4364-98db-1db1bfe15c57",
    "_uuid": "d386d8e1-81c7-4dc7-9eb6-4ec167f924e0",
    "collapsed": false,
    "jupyter": {
     "outputs_hidden": false
    },
    "trusted": true
   },
   "source": [
    "## Penanganan Missing Values"
   ]
  },
  {
   "cell_type": "code",
   "execution_count": 3,
   "metadata": {
    "_cell_guid": "483c7d52-678d-4c3b-90b9-ce473ae61fca",
    "_uuid": "9119cb25-cd94-4485-801f-0c3cb234c91a",
    "collapsed": false,
    "jupyter": {
     "outputs_hidden": false
    },
    "trusted": true
   },
   "outputs": [
    {
     "data": {
      "image/png": "[encoded data removed]",
      "text/plain": [
       "<Figure size 1200x800 with 1 Axes>"
      ]
     },
     "metadata": {},
     "output_type": "display_data"
    },
    {
     "name": "stdout",
     "output_type": "stream",
     "text": [
      "\n",
      "Kolom dengan nilai yang hilang lebih dari 50%:\n",
      "COMMONAREA_MEDI                 69.872297\n",
      "COMMONAREA_AVG                  69.872297\n",
      "COMMONAREA_MODE                 69.872297\n",
      "NONLIVINGAPARTMENTS_MEDI        69.432963\n",
      "NONLIVINGAPARTMENTS_MODE        69.432963\n",
      "NONLIVINGAPARTMENTS_AVG         69.432963\n",
      "FONDKAPREMONT_MODE              68.386172\n",
      "LIVINGAPARTMENTS_MODE           68.354953\n",
      "LIVINGAPARTMENTS_MEDI           68.354953\n",
      "LIVINGAPARTMENTS_AVG            68.354953\n",
      "FLOORSMIN_MODE                  67.848630\n",
      "FLOORSMIN_MEDI                  67.848630\n",
      "FLOORSMIN_AVG                   67.848630\n",
      "YEARS_BUILD_MODE                66.497784\n",
      "YEARS_BUILD_MEDI                66.497784\n",
      "YEARS_BUILD_AVG                 66.497784\n",
      "OWN_CAR_AGE                     65.990810\n",
      "LANDAREA_AVG                    59.376738\n",
      "LANDAREA_MEDI                   59.376738\n",
      "LANDAREA_MODE                   59.376738\n",
      "BASEMENTAREA_MEDI               58.515956\n",
      "BASEMENTAREA_AVG                58.515956\n",
      "BASEMENTAREA_MODE               58.515956\n",
      "EXT_SOURCE_1                    56.381073\n",
      "NONLIVINGAREA_MEDI              55.179164\n",
      "NONLIVINGAREA_MODE              55.179164\n",
      "NONLIVINGAREA_AVG               55.179164\n",
      "ELEVATORS_MEDI                  53.295980\n",
      "ELEVATORS_MODE                  53.295980\n",
      "ELEVATORS_AVG                   53.295980\n",
      "WALLSMATERIAL_MODE              50.840783\n",
      "APARTMENTS_MODE                 50.749729\n",
      "APARTMENTS_MEDI                 50.749729\n",
      "APARTMENTS_AVG                  50.749729\n",
      "ENTRANCES_MODE                  50.348768\n",
      "ENTRANCES_AVG                   50.348768\n",
      "ENTRANCES_MEDI                  50.348768\n",
      "LIVINGAREA_MEDI                 50.193326\n",
      "LIVINGAREA_MODE                 50.193326\n",
      "LIVINGAREA_AVG                  50.193326\n",
      "HOUSETYPE_MODE                  50.176091\n",
      "FLOORSMAX_MEDI                  49.760822\n",
      "FLOORSMAX_AVG                   49.760822\n",
      "FLOORSMAX_MODE                  49.760822\n",
      "YEARS_BEGINEXPLUATATION_AVG     48.781019\n",
      "YEARS_BEGINEXPLUATATION_MEDI    48.781019\n",
      "YEARS_BEGINEXPLUATATION_MODE    48.781019\n",
      "TOTALAREA_MODE                  48.268517\n",
      "EMERGENCYSTATE_MODE             47.398304\n",
      "dtype: float64\n"
     ]
    }
   ],
   "source": [
    "import matplotlib.pyplot as plt\n",
    "\n",
    "# Menghitung persentase nilai yang hilang per kolom\n",
    "missing_percent = (df.isnull().sum() / len(df)) * 100\n",
    "missing_percent = missing_percent[missing_percent > 0].sort_values(ascending=False)\n",
    "\n",
    "# Visualisasi nilai yang hilang\n",
    "plt.figure(figsize=(12, 8))\n",
    "missing_percent.plot(kind='bar')\n",
    "plt.title('Persentase Nilai yang Hilang per Kolom')\n",
    "plt.ylabel('Persentase (%)')\n",
    "plt.show()\n",
    "\n",
    "print(\"\\nKolom dengan nilai yang hilang lebih dari 50%:\")\n",
    "print(missing_percent[missing_percent > 40])"
   ]
  },
  {
   "cell_type": "code",
   "execution_count": 4,
   "metadata": {
    "_cell_guid": "e108dc5d-5d99-4525-a265-7cc4d2a8cad9",
    "_uuid": "3ae2b65f-7b5f-4e20-9029-ddb22dc2a09f",
    "collapsed": false,
    "jupyter": {
     "outputs_hidden": false
    },
    "trusted": true
   },
   "outputs": [
    {
     "name": "stdout",
     "output_type": "stream",
     "text": [
      "Shape sebelum drop kolom: (307511, 122)\n",
      "Shape setelah drop kolom: (307511, 105)\n"
     ]
    }
   ],
   "source": [
    "# Drop kolom dengan missing > 60%\n",
    "threshold = 0.6  # 60%\n",
    "df_drop = df.loc[:, df.isnull().mean() < threshold]\n",
    "print(f'Shape sebelum drop kolom: {df.shape}')\n",
    "print(f'Shape setelah drop kolom: {df_drop.shape}')"
   ]
  },
  {
   "cell_type": "code",
   "execution_count": 5,
   "metadata": {
    "_cell_guid": "c1b57b71-a75b-4896-92b3-5e42b2908622",
    "_uuid": "e3b78f5b-3a6d-4e7b-b355-b90b83f2a12f",
    "collapsed": false,
    "jupyter": {
     "outputs_hidden": false
    },
    "trusted": true
   },
   "outputs": [],
   "source": [
    "from sklearn.impute import SimpleImputer\n",
    "\n",
    "# Misalkan df_drop adalah subset dari df (contoh)\n",
    "df_drop = df.copy()  # Pastikan df_drop adalah salinan independen\n",
    "\n",
    "# Identifikasi kolom numerik\n",
    "numerical_cols = df_drop.select_dtypes(include=['int64', 'float64']).columns\n",
    "\n",
    "# Imputasi kolom numerik\n",
    "imputer_num = SimpleImputer(strategy='mean')\n",
    "df_drop.loc[:, numerical_cols] = imputer_num.fit_transform(df_drop[numerical_cols])"
   ]
  },
  {
   "cell_type": "code",
   "execution_count": 6,
   "metadata": {
    "_cell_guid": "8476caf6-c78e-462b-abf9-f00aaf604518",
    "_uuid": "dcb2fdae-052b-4104-b87d-070acfca49c8",
    "collapsed": false,
    "jupyter": {
     "outputs_hidden": false
    },
    "trusted": true
   },
   "outputs": [],
   "source": [
    "df_drop = df.copy()  # Gunakan .copy() untuk menghindari view\n",
    "\n",
    "# Imputasi untuk kolom numerik\n",
    "numerical_cols = df_drop.select_dtypes(include=['int64', 'float64']).columns\n",
    "numerical_cols = [col for col in numerical_cols if col not in ['TARGET', 'SK_ID_CURR']]\n",
    "\n",
    "# Menggunakan median untuk imputasi (karena lebih robust terhadap outlier)\n",
    "imputer_num = SimpleImputer(strategy='median')\n",
    "df_drop.loc[:, numerical_cols] = imputer_num.fit_transform(df_drop[numerical_cols])"
   ]
  },
  {
   "cell_type": "code",
   "execution_count": 7,
   "metadata": {
    "_cell_guid": "421c3750-a9fb-4802-9eb0-8135bf3dd55a",
    "_uuid": "567bc6b2-b090-4a6a-a924-127cfd7ec008",
    "collapsed": false,
    "jupyter": {
     "outputs_hidden": false
    },
    "trusted": true
   },
   "outputs": [
    {
     "name": "stdout",
     "output_type": "stream",
     "text": [
      "Jumlah missing values:\n",
      "764371\n"
     ]
    }
   ],
   "source": [
    "# Memeriksa apakah masih ada missing values\n",
    "print(\"Jumlah missing values:\")\n",
    "print(df_drop.isnull().sum().sum())"
   ]
  },
  {
   "cell_type": "markdown",
   "metadata": {
    "_cell_guid": "f0542069-8164-40d3-ab7c-3d60b85eeb2d",
    "_uuid": "9e25faaa-f646-4b50-badd-09779b693751",
    "collapsed": false,
    "jupyter": {
     "outputs_hidden": false
    },
    "trusted": true
   },
   "source": [
    "## Penghapusan Outlier"
   ]
  },
  {
   "cell_type": "code",
   "execution_count": 8,
   "metadata": {
    "_cell_guid": "be3d9247-8dcb-4ca8-8452-ccae5e06e063",
    "_uuid": "079053b7-f48f-4851-addc-28c99bb151da",
    "collapsed": false,
    "jupyter": {
     "outputs_hidden": false
    },
    "trusted": true
   },
   "outputs": [
    {
     "name": "stdout",
     "output_type": "stream",
     "text": [
      "Analisis Outlier Awal:\n"
     ]
    },
    {
     "data": {
      "text/html": [
       "<div>\n",
       "<style scoped>\n",
       "    .dataframe tbody tr th:only-of-type {\n",
       "        vertical-align: middle;\n",
       "    }\n",
       "\n",
       "    .dataframe tbody tr th {\n",
       "        vertical-align: top;\n",
       "    }\n",
       "\n",
       "    .dataframe thead th {\n",
       "        text-align: right;\n",
       "    }\n",
       "</style>\n",
       "<table border=\"1\" class=\"dataframe\">\n",
       "  <thead>\n",
       "    <tr style=\"text-align: right;\">\n",
       "      <th></th>\n",
       "      <th>n_outliers</th>\n",
       "      <th>pct_outliers</th>\n",
       "      <th>min_val</th>\n",
       "      <th>max_val</th>\n",
       "      <th>lower_bound</th>\n",
       "      <th>upper_bound</th>\n",
       "    </tr>\n",
       "  </thead>\n",
       "  <tbody>\n",
       "    <tr>\n",
       "      <th>AMT_INCOME_TOTAL</th>\n",
       "      <td>14035</td>\n",
       "      <td>4.56%</td>\n",
       "      <td>25650.0</td>\n",
       "      <td>117000000.0</td>\n",
       "      <td>-22500.0</td>\n",
       "      <td>337500.0</td>\n",
       "    </tr>\n",
       "    <tr>\n",
       "      <th>AMT_CREDIT</th>\n",
       "      <td>6562</td>\n",
       "      <td>2.13%</td>\n",
       "      <td>45000.0</td>\n",
       "      <td>4050000.0</td>\n",
       "      <td>-537975.0</td>\n",
       "      <td>1616625.0</td>\n",
       "    </tr>\n",
       "    <tr>\n",
       "      <th>AMT_ANNUITY</th>\n",
       "      <td>7504</td>\n",
       "      <td>2.44%</td>\n",
       "      <td>1615.5</td>\n",
       "      <td>258025.5</td>\n",
       "      <td>-10584.0</td>\n",
       "      <td>61704.0</td>\n",
       "    </tr>\n",
       "    <tr>\n",
       "      <th>AMT_GOODS_PRICE</th>\n",
       "      <td>14728</td>\n",
       "      <td>4.79%</td>\n",
       "      <td>40500.0</td>\n",
       "      <td>4050000.0</td>\n",
       "      <td>-423000.0</td>\n",
       "      <td>1341000.0</td>\n",
       "    </tr>\n",
       "    <tr>\n",
       "      <th>DAYS_BIRTH</th>\n",
       "      <td>0</td>\n",
       "      <td>0.00%</td>\n",
       "      <td>-25229</td>\n",
       "      <td>-7489</td>\n",
       "      <td>-30585.5</td>\n",
       "      <td>-1509.5</td>\n",
       "    </tr>\n",
       "    <tr>\n",
       "      <th>DAYS_EMPLOYED</th>\n",
       "      <td>72217</td>\n",
       "      <td>23.48%</td>\n",
       "      <td>-17912</td>\n",
       "      <td>365243</td>\n",
       "      <td>-6466.5</td>\n",
       "      <td>3417.5</td>\n",
       "    </tr>\n",
       "  </tbody>\n",
       "</table>\n",
       "</div>"
      ],
      "text/plain": [
       "                 n_outliers pct_outliers  min_val      max_val lower_bound  \\\n",
       "AMT_INCOME_TOTAL      14035        4.56%  25650.0  117000000.0    -22500.0   \n",
       "AMT_CREDIT             6562        2.13%  45000.0    4050000.0   -537975.0   \n",
       "AMT_ANNUITY            7504        2.44%   1615.5     258025.5    -10584.0   \n",
       "AMT_GOODS_PRICE       14728        4.79%  40500.0    4050000.0   -423000.0   \n",
       "DAYS_BIRTH                0        0.00%   -25229        -7489    -30585.5   \n",
       "DAYS_EMPLOYED         72217       23.48%   -17912       365243     -6466.5   \n",
       "\n",
       "                 upper_bound  \n",
       "AMT_INCOME_TOTAL    337500.0  \n",
       "AMT_CREDIT         1616625.0  \n",
       "AMT_ANNUITY          61704.0  \n",
       "AMT_GOODS_PRICE    1341000.0  \n",
       "DAYS_BIRTH           -1509.5  \n",
       "DAYS_EMPLOYED         3417.5  "
      ]
     },
     "metadata": {},
     "output_type": "display_data"
    }
   ],
   "source": [
    "# Fungsi untuk analisis outlier\n",
    "def analyze_outliers(df_drop, columns, threshold=1.5):\n",
    "    outlier_report = {}\n",
    "    \n",
    "    for col in columns:\n",
    "        Q1 = df_drop[col].quantile(0.25)\n",
    "        Q3 = df_drop[col].quantile(0.75)\n",
    "        IQR = Q3 - Q1\n",
    "        lower_bound = Q1 - threshold * IQR\n",
    "        upper_bound = Q3 + threshold * IQR\n",
    "        \n",
    "        outliers = df_drop[(df_drop[col] < lower_bound) | (df_drop[col] > upper_bound)]\n",
    "        \n",
    "        outlier_report[col] = {\n",
    "            'n_outliers': len(outliers),\n",
    "            'pct_outliers': f\"{len(outliers)/len(df)*100:.2f}%\",\n",
    "            'min_val': df_drop[col].min(),\n",
    "            'max_val': df_drop[col].max(),\n",
    "            'lower_bound': lower_bound,\n",
    "            'upper_bound': upper_bound\n",
    "        }\n",
    "    \n",
    "    return pd.DataFrame(outlier_report).T\n",
    "\n",
    "key_columns = [\n",
    "    'AMT_INCOME_TOTAL', \n",
    "    'AMT_CREDIT', \n",
    "    'AMT_ANNUITY',\n",
    "    'AMT_GOODS_PRICE',\n",
    "    'DAYS_BIRTH',\n",
    "    'DAYS_EMPLOYED'\n",
    "]\n",
    "\n",
    "# Analisis outlier\n",
    "outlier_analysis = analyze_outliers(df, key_columns)\n",
    "print(\"Analisis Outlier Awal:\")\n",
    "display(outlier_analysis)"
   ]
  },
  {
   "cell_type": "code",
   "execution_count": 9,
   "metadata": {
    "_cell_guid": "ebf9c05a-ec92-49d8-ba70-314179f58108",
    "_uuid": "c9a974f5-2d95-4c4d-851f-a77e79ab07ab",
    "collapsed": false,
    "jupyter": {
     "outputs_hidden": false
    },
    "trusted": true
   },
   "outputs": [],
   "source": [
    "import numpy as np\n",
    "def winsorize_data(df, columns, threshold=1.5):\n",
    "    \"\"\"\n",
    "    Mengganti outlier dengan nilai batas menggunakan pendekatan winsorizing\n",
    "    threshold: 3.0 untuk lebih longgar (3 x IQR)\n",
    "    \"\"\"\n",
    "    df_clean = df.copy()\n",
    "    \n",
    "    for col in columns:\n",
    "        Q1 = df_clean[col].quantile(0.25)\n",
    "        Q3 = df_clean[col].quantile(0.75)\n",
    "        IQR = Q3 - Q1\n",
    "        lower_bound = Q1 - threshold * IQR\n",
    "        upper_bound = Q3 + threshold * IQR\n",
    "        \n",
    "        # Capping\n",
    "        df_clean[col] = np.where(df_clean[col] < lower_bound, lower_bound, df_clean[col])\n",
    "        df_clean[col] = np.where(df_clean[col] > upper_bound, upper_bound, df_clean[col])\n",
    "    \n",
    "    return df_clean\n",
    "\n",
    "# Terapkan winsorizing\n",
    "df_no_outliers= winsorize_data(df_drop, key_columns, threshold=3.0)"
   ]
  },
  {
   "cell_type": "code",
   "execution_count": 10,
   "metadata": {
    "_cell_guid": "81873673-3787-458f-bce7-d5b93243eb3f",
    "_uuid": "22daaaba-6b5d-4dcf-87ec-7b28c2778e4e",
    "collapsed": false,
    "jupyter": {
     "outputs_hidden": false
    },
    "trusted": true
   },
   "outputs": [
    {
     "name": "stdout",
     "output_type": "stream",
     "text": [
      "\n",
      "Analisis Setelah Penanganan Outlier:\n"
     ]
    },
    {
     "data": {
      "text/html": [
       "<div>\n",
       "<style scoped>\n",
       "    .dataframe tbody tr th:only-of-type {\n",
       "        vertical-align: middle;\n",
       "    }\n",
       "\n",
       "    .dataframe tbody tr th {\n",
       "        vertical-align: top;\n",
       "    }\n",
       "\n",
       "    .dataframe thead th {\n",
       "        text-align: right;\n",
       "    }\n",
       "</style>\n",
       "<table border=\"1\" class=\"dataframe\">\n",
       "  <thead>\n",
       "    <tr style=\"text-align: right;\">\n",
       "      <th></th>\n",
       "      <th>n_outliers</th>\n",
       "      <th>pct_outliers</th>\n",
       "      <th>min_val</th>\n",
       "      <th>max_val</th>\n",
       "      <th>lower_bound</th>\n",
       "      <th>upper_bound</th>\n",
       "    </tr>\n",
       "  </thead>\n",
       "  <tbody>\n",
       "    <tr>\n",
       "      <th>AMT_INCOME_TOTAL</th>\n",
       "      <td>14035</td>\n",
       "      <td>4.56%</td>\n",
       "      <td>25650.0</td>\n",
       "      <td>117000000.0</td>\n",
       "      <td>-22500.0</td>\n",
       "      <td>337500.0</td>\n",
       "    </tr>\n",
       "    <tr>\n",
       "      <th>AMT_CREDIT</th>\n",
       "      <td>6562</td>\n",
       "      <td>2.13%</td>\n",
       "      <td>45000.0</td>\n",
       "      <td>4050000.0</td>\n",
       "      <td>-537975.0</td>\n",
       "      <td>1616625.0</td>\n",
       "    </tr>\n",
       "    <tr>\n",
       "      <th>AMT_ANNUITY</th>\n",
       "      <td>7504</td>\n",
       "      <td>2.44%</td>\n",
       "      <td>1615.5</td>\n",
       "      <td>258025.5</td>\n",
       "      <td>-10584.0</td>\n",
       "      <td>61704.0</td>\n",
       "    </tr>\n",
       "    <tr>\n",
       "      <th>AMT_GOODS_PRICE</th>\n",
       "      <td>14728</td>\n",
       "      <td>4.79%</td>\n",
       "      <td>40500.0</td>\n",
       "      <td>4050000.0</td>\n",
       "      <td>-423000.0</td>\n",
       "      <td>1341000.0</td>\n",
       "    </tr>\n",
       "    <tr>\n",
       "      <th>DAYS_BIRTH</th>\n",
       "      <td>0</td>\n",
       "      <td>0.00%</td>\n",
       "      <td>-25229</td>\n",
       "      <td>-7489</td>\n",
       "      <td>-30585.5</td>\n",
       "      <td>-1509.5</td>\n",
       "    </tr>\n",
       "    <tr>\n",
       "      <th>DAYS_EMPLOYED</th>\n",
       "      <td>72217</td>\n",
       "      <td>23.48%</td>\n",
       "      <td>-17912</td>\n",
       "      <td>365243</td>\n",
       "      <td>-6466.5</td>\n",
       "      <td>3417.5</td>\n",
       "    </tr>\n",
       "  </tbody>\n",
       "</table>\n",
       "</div>"
      ],
      "text/plain": [
       "                 n_outliers pct_outliers  min_val      max_val lower_bound  \\\n",
       "AMT_INCOME_TOTAL      14035        4.56%  25650.0  117000000.0    -22500.0   \n",
       "AMT_CREDIT             6562        2.13%  45000.0    4050000.0   -537975.0   \n",
       "AMT_ANNUITY            7504        2.44%   1615.5     258025.5    -10584.0   \n",
       "AMT_GOODS_PRICE       14728        4.79%  40500.0    4050000.0   -423000.0   \n",
       "DAYS_BIRTH                0        0.00%   -25229        -7489    -30585.5   \n",
       "DAYS_EMPLOYED         72217       23.48%   -17912       365243     -6466.5   \n",
       "\n",
       "                 upper_bound  \n",
       "AMT_INCOME_TOTAL    337500.0  \n",
       "AMT_CREDIT         1616625.0  \n",
       "AMT_ANNUITY          61704.0  \n",
       "AMT_GOODS_PRICE    1341000.0  \n",
       "DAYS_BIRTH           -1509.5  \n",
       "DAYS_EMPLOYED         3417.5  "
      ]
     },
     "metadata": {},
     "output_type": "display_data"
    },
    {
     "data": {
      "image/png": "[encoded data removed]",
      "text/plain": [
       "<Figure size 1500x2000 with 12 Axes>"
      ]
     },
     "metadata": {},
     "output_type": "display_data"
    },
    {
     "name": "stdout",
     "output_type": "stream",
     "text": [
      "\n",
      "Dimensi dataset sebelum cleaning: (307511, 122)\n",
      "Dimensi dataset setelah cleaning: (307511, 122)\n"
     ]
    }
   ],
   "source": [
    "import seaborn as sns\n",
    "\n",
    "# Analisis setelah penanganan\n",
    "print(\"\\nAnalisis Setelah Penanganan Outlier:\")\n",
    "outlier_analysis_clean = analyze_outliers(df_drop, key_columns)\n",
    "display(outlier_analysis_clean)\n",
    "\n",
    "# Visualisasi perbandingan\n",
    "fig, axes = plt.subplots(len(key_columns), 2, figsize=(15, 20))\n",
    "for i, col in enumerate(key_columns):\n",
    "    # Sebelum\n",
    "    sns.boxplot(x=df_drop[col], ax=axes[i, 0])\n",
    "    axes[i, 0].set_title(f'Original {col}')\n",
    "    \n",
    "    # Sesudah\n",
    "    sns.boxplot(x=df_no_outliers[col], ax=axes[i, 1])\n",
    "    axes[i, 1].set_title(f'Cleaned {col}')\n",
    "    \n",
    "plt.tight_layout()\n",
    "plt.show()\n",
    "\n",
    "# Periksa ukuran dataset\n",
    "print(f\"\\nDimensi dataset sebelum cleaning: {df_drop.shape}\")\n",
    "print(f\"Dimensi dataset setelah cleaning: {df_no_outliers.shape}\")"
   ]
  },
  {
   "cell_type": "code",
   "execution_count": 11,
   "metadata": {
    "_cell_guid": "59130f45-011f-4b0f-8712-e2979fe92452",
    "_uuid": "b7a85692-5ef9-4259-82ca-8a61ca71a1d1",
    "collapsed": false,
    "jupyter": {
     "outputs_hidden": false
    },
    "trusted": true
   },
   "outputs": [
    {
     "name": "stdout",
     "output_type": "stream",
     "text": [
      "Apakah masih ada outlier di kolom AMT_INCOME_TOTAL setelah winsorizing? False\n",
      "\n",
      "Kolom: AMT_INCOME_TOTAL\n",
      "Sebelum - Min: 25650.0, Max: 117000000.0\n",
      "Sesudah - Min: 25650.0, Max: 472500.0\n"
     ]
    }
   ],
   "source": [
    "# Verifikasi untuk satu kolom contoh\n",
    "col = key_columns[0]  # ambil kolom pertama\n",
    "\n",
    "Q1 = df_drop[col].quantile(0.25)\n",
    "Q3 = df_drop[col].quantile(0.75)\n",
    "IQR = Q3 - Q1\n",
    "lower_bound = Q1 - 3.0 * IQR\n",
    "upper_bound = Q3 + 3.0 * IQR\n",
    "\n",
    "# Cek apakah masih ada nilai di luar bounds\n",
    "outliers_exist = ((df_no_outliers[col] < lower_bound) | (df_no_outliers[col] > upper_bound)).any()\n",
    "print(f\"Apakah masih ada outlier di kolom {col} setelah winsorizing? {outliers_exist}\")\n",
    "\n",
    "# Cek nilai min/max sebelum dan sesudah\n",
    "print(f\"\\nKolom: {col}\")\n",
    "print(f\"Sebelum - Min: {df_drop[col].min()}, Max: {df_drop[col].max()}\")\n",
    "print(f\"Sesudah - Min: {df_no_outliers[col].min()}, Max: {df_no_outliers[col].max()}\")"
   ]
  },
  {
   "cell_type": "markdown",
   "metadata": {
    "_cell_guid": "29090461-1ef9-4b64-a2d8-4df84eaadb98",
    "_uuid": "d88a7f38-2ad3-4572-8ea6-1c5fde009a27",
    "collapsed": false,
    "jupyter": {
     "outputs_hidden": false
    },
    "trusted": true
   },
   "source": [
    "# Transformasi dan Rekayasa Fitur"
   ]
  },
  {
   "cell_type": "markdown",
   "metadata": {
    "_cell_guid": "6513a8a7-d0a9-409c-aa3f-8427d9f1843a",
    "_uuid": "5788c5a7-1e9f-448d-a698-bdc95e5886f5",
    "collapsed": false,
    "jupyter": {
     "outputs_hidden": false
    },
    "trusted": true
   },
   "source": [
    "## Encoding Variabel Kategorikal"
   ]
  },
  {
   "cell_type": "code",
   "execution_count": 12,
   "metadata": {
    "_cell_guid": "a9d4e8e9-2de2-4f6e-8132-6a1033a8bfc0",
    "_uuid": "d02d5578-864d-4458-bd46-98b962ce47ee",
    "collapsed": false,
    "jupyter": {
     "outputs_hidden": false
    },
    "trusted": true
   },
   "outputs": [
    {
     "name": "stdout",
     "output_type": "stream",
     "text": [
      "\n",
      "Shape setelah encoding: (307511, 158)\n"
     ]
    }
   ],
   "source": [
    "from sklearn.preprocessing import OneHotEncoder, LabelEncoder\n",
    "\n",
    "# Memisahkan kolom kategorikal\n",
    "categorical_cols = df_no_outliers.select_dtypes(include=['object']).columns\n",
    "\n",
    "# One-Hot Encoding untuk kolom dengan cardinality rendah (<10 nilai unik)\n",
    "low_cardinality_cols = [col for col in categorical_cols if df_no_outliers[col].nunique() < 10]\n",
    "\n",
    "# Label Encoding untuk kolom dengan cardinality tinggi\n",
    "high_cardinality_cols = [col for col in categorical_cols if df_no_outliers[col].nunique() >= 10]\n",
    "\n",
    "# Melakukan One-Hot Encoding\n",
    "df_encoded = pd.get_dummies(df_no_outliers, columns=low_cardinality_cols, drop_first=True)\n",
    "\n",
    "# Melakukan Label Encoding untuk kolom dengan cardinality tinggi\n",
    "label_encoder = LabelEncoder()\n",
    "for col in high_cardinality_cols:\n",
    "    df_encoded[col] = label_encoder.fit_transform(df_encoded[col].astype(str))\n",
    "\n",
    "print(\"\\nShape setelah encoding:\", df_encoded.shape)"
   ]
  },
  {
   "cell_type": "markdown",
   "metadata": {
    "_cell_guid": "6417c5a4-521a-4d15-a4f3-db721ac6fe88",
    "_uuid": "6b3298f8-7707-4f34-a516-2752779dfb12",
    "collapsed": false,
    "jupyter": {
     "outputs_hidden": false
    },
    "trusted": true
   },
   "source": [
    "## Normalisasi & Standarisasi"
   ]
  },
  {
   "cell_type": "code",
   "execution_count": 13,
   "metadata": {
    "_cell_guid": "1971e184-958c-41d9-b081-b636256ae7d7",
    "_uuid": "e05cd25e-bc8e-48fa-a904-726964c056f2",
    "collapsed": false,
    "jupyter": {
     "outputs_hidden": false
    },
    "trusted": true
   },
   "outputs": [
    {
     "name": "stdout",
     "output_type": "stream",
     "text": [
      "\n",
      "Contoh data setelah standarisasi:\n",
      "   CNT_CHILDREN  AMT_INCOME_TOTAL  AMT_CREDIT  AMT_ANNUITY  AMT_GOODS_PRICE  \\\n",
      "0     -0.577538          0.439112   -0.479199    -0.166412        -0.510725   \n",
      "1     -0.577538          1.251745    1.732722     0.616017         1.622519   \n",
      "2     -0.577538         -1.186154   -1.156557    -1.443461        -1.102608   \n",
      "3     -0.577538         -0.373521   -0.713421     0.188307        -0.658696   \n",
      "4     -0.577538         -0.536048   -0.213834    -0.368102        -0.066813   \n",
      "\n",
      "   REGION_POPULATION_RELATIVE  DAYS_BIRTH  DAYS_EMPLOYED  DAYS_REGISTRATION  \\\n",
      "0                   -0.149452    1.506880       0.002459           0.379837   \n",
      "1                   -1.252750   -0.166821      -0.130061           1.078697   \n",
      "2                   -0.783451   -0.689509       0.101549           0.206116   \n",
      "3                   -0.928991   -0.680114      -0.575245          -1.375829   \n",
      "4                    0.563570   -0.892535      -0.575004           0.191639   \n",
      "\n",
      "   DAYS_ID_PUBLISH  ...  FLAG_DOCUMENT_18  FLAG_DOCUMENT_19  FLAG_DOCUMENT_20  \\\n",
      "0         0.579154  ...         -0.090534         -0.024402         -0.022529   \n",
      "1         1.790855  ...         -0.090534         -0.024402         -0.022529   \n",
      "2         0.306869  ...         -0.090534         -0.024402         -0.022529   \n",
      "3         0.369143  ...         -0.090534         -0.024402         -0.022529   \n",
      "4        -0.307263  ...         -0.090534         -0.024402         -0.022529   \n",
      "\n",
      "   FLAG_DOCUMENT_21  AMT_REQ_CREDIT_BUREAU_HOUR  AMT_REQ_CREDIT_BUREAU_DAY  \\\n",
      "0         -0.018305                   -0.070987                  -0.058766   \n",
      "1         -0.018305                   -0.070987                  -0.058766   \n",
      "2         -0.018305                   -0.070987                  -0.058766   \n",
      "3         -0.018305                   -0.070987                  -0.058766   \n",
      "4         -0.018305                   -0.070987                  -0.058766   \n",
      "\n",
      "   AMT_REQ_CREDIT_BUREAU_WEEK  AMT_REQ_CREDIT_BUREAU_MON  \\\n",
      "0                   -0.155837                  -0.269947   \n",
      "1                   -0.155837                  -0.269947   \n",
      "2                   -0.155837                  -0.269947   \n",
      "3                   -0.155837                  -0.269947   \n",
      "4                   -0.155837                  -0.269947   \n",
      "\n",
      "   AMT_REQ_CREDIT_BUREAU_QRT  AMT_REQ_CREDIT_BUREAU_YEAR  \n",
      "0                   -0.30862                   -0.440926  \n",
      "1                   -0.30862                   -1.007331  \n",
      "2                   -0.30862                   -1.007331  \n",
      "3                   -0.30862                   -0.440926  \n",
      "4                   -0.30862                   -1.007331  \n",
      "\n",
      "[5 rows x 104 columns]\n"
     ]
    }
   ],
   "source": [
    "from sklearn.preprocessing import StandardScaler, MinMaxScaler\n",
    "\n",
    "# Memisahkan fitur dan target\n",
    "X = df_encoded.drop(columns=['TARGET', 'SK_ID_CURR'])\n",
    "y = df_encoded['TARGET']\n",
    "\n",
    "# Daftar kolom numerik untuk diskalakan\n",
    "numeric_cols = X.select_dtypes(include=['int64', 'float64']).columns\n",
    "\n",
    "# Standarisasi (Z-score normalization)\n",
    "scaler = StandardScaler()\n",
    "X[numeric_cols] = scaler.fit_transform(X[numeric_cols])\n",
    "\n",
    "# Alternatif: Normalisasi Min-Max\n",
    "# minmax_scaler = MinMaxScaler()\n",
    "# X[numeric_cols] = minmax_scaler.fit_transform(X[numeric_cols])\n",
    "\n",
    "print(\"\\nContoh data setelah standarisasi:\")\n",
    "print(X[numeric_cols].head())"
   ]
  },
  {
   "cell_type": "markdown",
   "metadata": {
    "_cell_guid": "5e4e34cf-464d-48e1-88b5-da5efa7a38fa",
    "_uuid": "fd22d066-3f1b-4994-817b-b796a8fc55c1",
    "collapsed": false,
    "jupyter": {
     "outputs_hidden": false
    },
    "trusted": true
   },
   "source": [
    "## Fitur Baru"
   ]
  },
  {
   "cell_type": "code",
   "execution_count": 14,
   "metadata": {
    "_cell_guid": "bd0733d3-89e9-4ca1-b4a4-e6b5e6334800",
    "_uuid": "40598e7a-4358-4555-9f1c-a55228028914",
    "collapsed": false,
    "jupyter": {
     "outputs_hidden": false
    },
    "trusted": true
   },
   "outputs": [
    {
     "name": "stdout",
     "output_type": "stream",
     "text": [
      "\n",
      "Fitur baru yang dibuat:\n",
      "       CREDIT_INCOME_RATIO  ANNUITY_INCOME_RATIO      AGE_YEARS  \\\n",
      "count        307511.000000         307511.000000  307511.000000   \n",
      "mean              3.962897              0.181026      43.936973   \n",
      "std               2.684737              0.094020      11.956133   \n",
      "min               0.095238              0.008700      20.517808   \n",
      "25%               2.027183              0.115270      34.008219   \n",
      "50%               3.275862              0.162933      43.150685   \n",
      "75%               5.159467              0.228800      53.923288   \n",
      "max              84.736842              1.875965      69.120548   \n",
      "\n",
      "       WORKING_YEARS  WORKING_LIFE_RATIO  \n",
      "count  307511.000000       307511.000000  \n",
      "mean        8.802426            0.186891  \n",
      "std         7.444760            0.135954  \n",
      "min         0.000000            0.000000  \n",
      "25%         2.556164            0.068385  \n",
      "50%         6.079452            0.155791  \n",
      "75%        15.635616            0.305463  \n",
      "max        27.871233            0.926277  \n"
     ]
    }
   ],
   "source": [
    "# Membuat fitur baru: Rasio Kredit terhadap Pendapatan\n",
    "df_encoded['CREDIT_INCOME_RATIO'] = df_encoded['AMT_CREDIT'] / df_encoded['AMT_INCOME_TOTAL']\n",
    "\n",
    "# Membuat fitur baru: Rasio Anuitas terhadap Pendapatan\n",
    "df_encoded['ANNUITY_INCOME_RATIO'] = df_encoded['AMT_ANNUITY'] / df_encoded['AMT_INCOME_TOTAL']\n",
    "\n",
    "# Membuat fitur baru: Usia dalam tahun (dari DAYS_BIRTH)\n",
    "df_encoded['AGE_YEARS'] = abs(df_encoded['DAYS_BIRTH']) / 365\n",
    "\n",
    "# Membuat fitur baru: Lama bekerja dalam tahun (dari DAYS_EMPLOYED)\n",
    "df_encoded['WORKING_YEARS'] = abs(df_encoded['DAYS_EMPLOYED']) / 365\n",
    "\n",
    "# Membuat fitur baru: Persentase hari bekerja dari usia\n",
    "df_encoded['WORKING_LIFE_RATIO'] = abs(df_encoded['DAYS_EMPLOYED']) / abs(df_encoded['DAYS_BIRTH'])\n",
    "\n",
    "# Memeriksa fitur baru\n",
    "print(\"\\nFitur baru yang dibuat:\")\n",
    "new_features = ['CREDIT_INCOME_RATIO', 'ANNUITY_INCOME_RATIO', 'AGE_YEARS', 'WORKING_YEARS', 'WORKING_LIFE_RATIO']\n",
    "print(df_encoded[new_features].describe())"
   ]
  },
  {
   "cell_type": "code",
   "execution_count": 15,
   "metadata": {
    "_cell_guid": "f571755a-13b3-4a96-9a9e-9989da306bbe",
    "_uuid": "378f4d60-481d-40ee-95b4-69415008ded2",
    "collapsed": false,
    "jupyter": {
     "outputs_hidden": false
    },
    "trusted": true
   },
   "outputs": [
    {
     "data": {
      "text/html": [
       "<div>\n",
       "<style scoped>\n",
       "    .dataframe tbody tr th:only-of-type {\n",
       "        vertical-align: middle;\n",
       "    }\n",
       "\n",
       "    .dataframe tbody tr th {\n",
       "        vertical-align: top;\n",
       "    }\n",
       "\n",
       "    .dataframe thead th {\n",
       "        text-align: right;\n",
       "    }\n",
       "</style>\n",
       "<table border=\"1\" class=\"dataframe\">\n",
       "  <thead>\n",
       "    <tr style=\"text-align: right;\">\n",
       "      <th></th>\n",
       "      <th>SK_ID_CURR</th>\n",
       "      <th>TARGET</th>\n",
       "      <th>CNT_CHILDREN</th>\n",
       "      <th>AMT_INCOME_TOTAL</th>\n",
       "      <th>AMT_CREDIT</th>\n",
       "      <th>AMT_ANNUITY</th>\n",
       "      <th>AMT_GOODS_PRICE</th>\n",
       "      <th>REGION_POPULATION_RELATIVE</th>\n",
       "      <th>DAYS_BIRTH</th>\n",
       "      <th>DAYS_EMPLOYED</th>\n",
       "      <th>...</th>\n",
       "      <th>WALLSMATERIAL_MODE_Others</th>\n",
       "      <th>WALLSMATERIAL_MODE_Panel</th>\n",
       "      <th>WALLSMATERIAL_MODE_Stone, brick</th>\n",
       "      <th>WALLSMATERIAL_MODE_Wooden</th>\n",
       "      <th>EMERGENCYSTATE_MODE_Yes</th>\n",
       "      <th>CREDIT_INCOME_RATIO</th>\n",
       "      <th>ANNUITY_INCOME_RATIO</th>\n",
       "      <th>AGE_YEARS</th>\n",
       "      <th>WORKING_YEARS</th>\n",
       "      <th>WORKING_LIFE_RATIO</th>\n",
       "    </tr>\n",
       "  </thead>\n",
       "  <tbody>\n",
       "    <tr>\n",
       "      <th>0</th>\n",
       "      <td>100002</td>\n",
       "      <td>1</td>\n",
       "      <td>0</td>\n",
       "      <td>202500.0</td>\n",
       "      <td>406597.5</td>\n",
       "      <td>24700.5</td>\n",
       "      <td>351000.0</td>\n",
       "      <td>0.018801</td>\n",
       "      <td>-9461.0</td>\n",
       "      <td>-637.0</td>\n",
       "      <td>...</td>\n",
       "      <td>False</td>\n",
       "      <td>False</td>\n",
       "      <td>True</td>\n",
       "      <td>False</td>\n",
       "      <td>False</td>\n",
       "      <td>2.007889</td>\n",
       "      <td>0.121978</td>\n",
       "      <td>25.920548</td>\n",
       "      <td>1.745205</td>\n",
       "      <td>0.067329</td>\n",
       "    </tr>\n",
       "    <tr>\n",
       "      <th>1</th>\n",
       "      <td>100003</td>\n",
       "      <td>0</td>\n",
       "      <td>0</td>\n",
       "      <td>270000.0</td>\n",
       "      <td>1293502.5</td>\n",
       "      <td>35698.5</td>\n",
       "      <td>1129500.0</td>\n",
       "      <td>0.003541</td>\n",
       "      <td>-16765.0</td>\n",
       "      <td>-1188.0</td>\n",
       "      <td>...</td>\n",
       "      <td>False</td>\n",
       "      <td>False</td>\n",
       "      <td>False</td>\n",
       "      <td>False</td>\n",
       "      <td>False</td>\n",
       "      <td>4.790750</td>\n",
       "      <td>0.132217</td>\n",
       "      <td>45.931507</td>\n",
       "      <td>3.254795</td>\n",
       "      <td>0.070862</td>\n",
       "    </tr>\n",
       "    <tr>\n",
       "      <th>2</th>\n",
       "      <td>100004</td>\n",
       "      <td>0</td>\n",
       "      <td>0</td>\n",
       "      <td>67500.0</td>\n",
       "      <td>135000.0</td>\n",
       "      <td>6750.0</td>\n",
       "      <td>135000.0</td>\n",
       "      <td>0.010032</td>\n",
       "      <td>-19046.0</td>\n",
       "      <td>-225.0</td>\n",
       "      <td>...</td>\n",
       "      <td>False</td>\n",
       "      <td>False</td>\n",
       "      <td>False</td>\n",
       "      <td>False</td>\n",
       "      <td>False</td>\n",
       "      <td>2.000000</td>\n",
       "      <td>0.100000</td>\n",
       "      <td>52.180822</td>\n",
       "      <td>0.616438</td>\n",
       "      <td>0.011814</td>\n",
       "    </tr>\n",
       "    <tr>\n",
       "      <th>3</th>\n",
       "      <td>100006</td>\n",
       "      <td>0</td>\n",
       "      <td>0</td>\n",
       "      <td>135000.0</td>\n",
       "      <td>312682.5</td>\n",
       "      <td>29686.5</td>\n",
       "      <td>297000.0</td>\n",
       "      <td>0.008019</td>\n",
       "      <td>-19005.0</td>\n",
       "      <td>-3039.0</td>\n",
       "      <td>...</td>\n",
       "      <td>False</td>\n",
       "      <td>False</td>\n",
       "      <td>False</td>\n",
       "      <td>False</td>\n",
       "      <td>False</td>\n",
       "      <td>2.316167</td>\n",
       "      <td>0.219900</td>\n",
       "      <td>52.068493</td>\n",
       "      <td>8.326027</td>\n",
       "      <td>0.159905</td>\n",
       "    </tr>\n",
       "    <tr>\n",
       "      <th>4</th>\n",
       "      <td>100007</td>\n",
       "      <td>0</td>\n",
       "      <td>0</td>\n",
       "      <td>121500.0</td>\n",
       "      <td>513000.0</td>\n",
       "      <td>21865.5</td>\n",
       "      <td>513000.0</td>\n",
       "      <td>0.028663</td>\n",
       "      <td>-19932.0</td>\n",
       "      <td>-3038.0</td>\n",
       "      <td>...</td>\n",
       "      <td>False</td>\n",
       "      <td>False</td>\n",
       "      <td>False</td>\n",
       "      <td>False</td>\n",
       "      <td>False</td>\n",
       "      <td>4.222222</td>\n",
       "      <td>0.179963</td>\n",
       "      <td>54.608219</td>\n",
       "      <td>8.323288</td>\n",
       "      <td>0.152418</td>\n",
       "    </tr>\n",
       "  </tbody>\n",
       "</table>\n",
       "<p>5 rows × 163 columns</p>\n",
       "</div>"
      ],
      "text/plain": [
       "   SK_ID_CURR  TARGET  CNT_CHILDREN  AMT_INCOME_TOTAL  AMT_CREDIT  \\\n",
       "0      100002       1             0          202500.0    406597.5   \n",
       "1      100003       0             0          270000.0   1293502.5   \n",
       "2      100004       0             0           67500.0    135000.0   \n",
       "3      100006       0             0          135000.0    312682.5   \n",
       "4      100007       0             0          121500.0    513000.0   \n",
       "\n",
       "   AMT_ANNUITY  AMT_GOODS_PRICE  REGION_POPULATION_RELATIVE  DAYS_BIRTH  \\\n",
       "0      24700.5         351000.0                    0.018801     -9461.0   \n",
       "1      35698.5        1129500.0                    0.003541    -16765.0   \n",
       "2       6750.0         135000.0                    0.010032    -19046.0   \n",
       "3      29686.5         297000.0                    0.008019    -19005.0   \n",
       "4      21865.5         513000.0                    0.028663    -19932.0   \n",
       "\n",
       "   DAYS_EMPLOYED  ...  WALLSMATERIAL_MODE_Others  WALLSMATERIAL_MODE_Panel  \\\n",
       "0         -637.0  ...                      False                     False   \n",
       "1        -1188.0  ...                      False                     False   \n",
       "2         -225.0  ...                      False                     False   \n",
       "3        -3039.0  ...                      False                     False   \n",
       "4        -3038.0  ...                      False                     False   \n",
       "\n",
       "   WALLSMATERIAL_MODE_Stone, brick  WALLSMATERIAL_MODE_Wooden  \\\n",
       "0                             True                      False   \n",
       "1                            False                      False   \n",
       "2                            False                      False   \n",
       "3                            False                      False   \n",
       "4                            False                      False   \n",
       "\n",
       "   EMERGENCYSTATE_MODE_Yes  CREDIT_INCOME_RATIO  ANNUITY_INCOME_RATIO  \\\n",
       "0                    False             2.007889              0.121978   \n",
       "1                    False             4.790750              0.132217   \n",
       "2                    False             2.000000              0.100000   \n",
       "3                    False             2.316167              0.219900   \n",
       "4                    False             4.222222              0.179963   \n",
       "\n",
       "   AGE_YEARS  WORKING_YEARS  WORKING_LIFE_RATIO  \n",
       "0  25.920548       1.745205            0.067329  \n",
       "1  45.931507       3.254795            0.070862  \n",
       "2  52.180822       0.616438            0.011814  \n",
       "3  52.068493       8.326027            0.159905  \n",
       "4  54.608219       8.323288            0.152418  \n",
       "\n",
       "[5 rows x 163 columns]"
      ]
     },
     "execution_count": 15,
     "metadata": {},
     "output_type": "execute_result"
    }
   ],
   "source": [
    "df_encoded.head()"
   ]
  },
  {
   "cell_type": "markdown",
   "metadata": {
    "_cell_guid": "44a5a759-215b-4951-9a86-62fd833281ba",
    "_uuid": "a871617f-35ea-454b-a560-6cf713a2311b",
    "collapsed": false,
    "jupyter": {
     "outputs_hidden": false
    },
    "trusted": true
   },
   "source": [
    "# Data Splitting"
   ]
  },
  {
   "cell_type": "code",
   "execution_count": 16,
   "metadata": {
    "_cell_guid": "ebccce3c-12ac-4baa-8f8e-85fd5b978310",
    "_uuid": "35ed6fc0-db66-4c19-b012-95def100612e",
    "collapsed": false,
    "jupyter": {
     "outputs_hidden": false
    },
    "trusted": true
   },
   "outputs": [
    {
     "name": "stdout",
     "output_type": "stream",
     "text": [
      "=== Statistik Data Awal ===\n",
      "Jumlah total sampel: 307511\n",
      "Jumlah fitur: 162\n",
      "\n",
      "Distribusi kelas:\n",
      "TARGET\n",
      "0    0.919271\n",
      "1    0.080729\n",
      "Name: proportion, dtype: float64\n"
     ]
    }
   ],
   "source": [
    "import pandas as pd\n",
    "import numpy as np\n",
    "from sklearn.model_selection import train_test_split, StratifiedKFold\n",
    "from sklearn.preprocessing import StandardScaler\n",
    "from sklearn.metrics import accuracy_score, precision_score, recall_score, f1_score, roc_auc_score\n",
    "\n",
    "# Memisahkan fitur dan target\n",
    "X = df_encoded.drop('TARGET', axis=1)\n",
    "y = df_encoded['TARGET']\n",
    "\n",
    "# Menampilkan statistik awal\n",
    "print(\"=== Statistik Data Awal ===\")\n",
    "print(f\"Jumlah total sampel: {len(df)}\")\n",
    "print(f\"Jumlah fitur: {X.shape[1]}\")\n",
    "print(\"\\nDistribusi kelas:\")\n",
    "print(y.value_counts(normalize=True))"
   ]
  },
  {
   "cell_type": "markdown",
   "metadata": {
    "_cell_guid": "2218d00c-9364-4edc-876e-96901c1fa1ba",
    "_uuid": "64fce939-6014-4d35-9326-16dc8df3d39c",
    "collapsed": false,
    "jupyter": {
     "outputs_hidden": false
    },
    "trusted": true
   },
   "source": [
    "## Pembagian Data Training (75%) dan Testing (25%) dengan Stratified Sampling"
   ]
  },
  {
   "cell_type": "code",
   "execution_count": 17,
   "metadata": {
    "_cell_guid": "53fac27b-9de3-4d3f-9833-3d027520e27c",
    "_uuid": "1068655d-0e6d-4d42-bbed-e5ee3f58aa35",
    "collapsed": false,
    "jupyter": {
     "outputs_hidden": false
    },
    "trusted": true
   },
   "outputs": [
    {
     "name": "stdout",
     "output_type": "stream",
     "text": [
      "=== Statistik Data Awal ===\n",
      "Jumlah total sampel: 307511\n",
      "Jumlah fitur: 162\n",
      "\n",
      "Distribusi kelas:\n",
      "TARGET\n",
      "0    0.919271\n",
      "1    0.080729\n",
      "Name: proportion, dtype: float64\n",
      "\n",
      "=== Balancing Dataset ===\n",
      "Distribusi kelas setelah balancing:\n",
      "TARGET\n",
      "1    0.5\n",
      "0    0.5\n",
      "Name: proportion, dtype: float64\n",
      "Jumlah total sampel setelah balancing: 565372\n",
      "\n",
      "=== Hasil Pembagian Data ===\n",
      "Jumlah data training: 424029 (75.0%)\n",
      "Jumlah data testing: 141343 (25.0%)\n",
      "\n",
      "Distribusi kelas pada data training:\n",
      "TARGET\n",
      "1    0.500001\n",
      "0    0.499999\n",
      "Name: proportion, dtype: float64\n",
      "\n",
      "Distribusi kelas pada data testing:\n",
      "TARGET\n",
      "0    0.500004\n",
      "1    0.499996\n",
      "Name: proportion, dtype: float64\n"
     ]
    }
   ],
   "source": [
    "import pandas as pd\n",
    "import numpy as np\n",
    "from sklearn.model_selection import train_test_split, StratifiedKFold\n",
    "from sklearn.preprocessing import StandardScaler\n",
    "from sklearn.metrics import accuracy_score, precision_score, recall_score, f1_score, roc_auc_score\n",
    "from imblearn.over_sampling import RandomOverSampler  # For balancing\n",
    "\n",
    "# Menampilkan statistik awal (from your previous code)\n",
    "print(\"=== Statistik Data Awal ===\")\n",
    "print(f\"Jumlah total sampel: {len(df)}\")\n",
    "print(f\"Jumlah fitur: {X.shape[1]}\")\n",
    "print(\"\\nDistribusi kelas:\")\n",
    "print(y.value_counts(normalize=True))\n",
    "\n",
    "# Balance the dataset using RandomOverSampler before splitting\n",
    "print(\"\\n=== Balancing Dataset ===\")\n",
    "balancer = RandomOverSampler(random_state=42)\n",
    "X_balanced, y_balanced = balancer.fit_resample(X, y)\n",
    "\n",
    "# Menampilkan distribusi kelas setelah balancing\n",
    "print(\"Distribusi kelas setelah balancing:\")\n",
    "print(y_balanced.value_counts(normalize=True))\n",
    "print(f\"Jumlah total sampel setelah balancing: {len(y_balanced)}\")\n",
    "\n",
    "# Pembagian data dengan stratified sampling on the balanced dataset\n",
    "X_train, X_test, y_train, y_test = train_test_split(\n",
    "    X_balanced, \n",
    "    y_balanced, \n",
    "    test_size=0.25, \n",
    "    random_state=42,  # Untuk reproducibility\n",
    "    stratify=y_balanced  # Stratified sampling to maintain balanced distribution\n",
    ")\n",
    "\n",
    "# Menampilkan statistik hasil pembagian\n",
    "print(\"\\n=== Hasil Pembagian Data ===\")\n",
    "print(f\"Jumlah data training: {len(X_train)} ({len(X_train)/len(y_balanced)*100:.1f}%)\")\n",
    "print(f\"Jumlah data testing: {len(X_test)} ({len(X_test)/len(y_balanced)*100:.1f}%)\")\n",
    "\n",
    "print(\"\\nDistribusi kelas pada data training:\")\n",
    "print(y_train.value_counts(normalize=True))\n",
    "\n",
    "print(\"\\nDistribusi kelas pada data testing:\")\n",
    "print(y_test.value_counts(normalize=True))"
   ]
  },
  {
   "cell_type": "markdown",
   "metadata": {
    "_cell_guid": "4e17e0ce-818f-4f8c-9238-f1b4e4064b95",
    "_uuid": "ecb74484-64b6-4247-a821-c5968bb9ddb7",
    "collapsed": false,
    "jupyter": {
     "outputs_hidden": false
    },
    "trusted": true
   },
   "source": [
    "## 10-Fold Cross Validation Stratified"
   ]
  },
  {
   "cell_type": "code",
   "execution_count": 18,
   "metadata": {
    "_cell_guid": "bcfc67ff-2f81-4105-adbd-26b9e64b650e",
    "_uuid": "49502690-1733-42a7-ab33-96c8d5a7ebb4",
    "collapsed": false,
    "jupyter": {
     "outputs_hidden": false
    },
    "trusted": true
   },
   "outputs": [
    {
     "name": "stdout",
     "output_type": "stream",
     "text": [
      "\n",
      "Fold 1:\n",
      "  Training: index 0..424028\n",
      "  Validation: index 2..424019\n",
      "  Class distribution in validation: [21201 21202]\n",
      "\n",
      "Fold 2:\n",
      "  Training: index 1..424028\n",
      "  Validation: index 0..424016\n",
      "  Class distribution in validation: [21201 21202]\n",
      "\n",
      "Fold 3:\n",
      "  Training: index 0..424028\n",
      "  Validation: index 3..424021\n",
      "  Class distribution in validation: [21201 21202]\n",
      "\n",
      "Fold 4:\n",
      "  Training: index 0..424028\n",
      "  Validation: index 4..424014\n",
      "  Class distribution in validation: [21201 21202]\n",
      "\n",
      "Fold 5:\n",
      "  Training: index 0..424028\n",
      "  Validation: index 16..424022\n",
      "  Class distribution in validation: [21201 21202]\n",
      "\n",
      "Fold 6:\n",
      "  Training: index 0..424027\n",
      "  Validation: index 8..424028\n",
      "  Class distribution in validation: [21202 21201]\n",
      "\n",
      "Fold 7:\n",
      "  Training: index 0..424028\n",
      "  Validation: index 7..424027\n",
      "  Class distribution in validation: [21202 21201]\n",
      "\n",
      "Fold 8:\n",
      "  Training: index 0..424028\n",
      "  Validation: index 1..424017\n",
      "  Class distribution in validation: [21202 21201]\n",
      "\n",
      "Fold 9:\n",
      "  Training: index 0..424028\n",
      "  Validation: index 5..424025\n",
      "  Class distribution in validation: [21202 21201]\n",
      "\n",
      "Fold 10:\n",
      "  Training: index 0..424028\n",
      "  Validation: index 30..424023\n",
      "  Class distribution in validation: [21201 21201]\n"
     ]
    }
   ],
   "source": [
    "# 10-fold stratified cross validation\n",
    "skf = StratifiedKFold(\n",
    "    n_splits=10,\n",
    "    shuffle=True,\n",
    "    random_state=42\n",
    ")\n",
    "\n",
    "for fold, (train_idx, val_idx) in enumerate(skf.split(X_train, y_train)):\n",
    "    print(f\"\\nFold {fold + 1}:\")\n",
    "    print(f\"  Training: index {train_idx[0]}..{train_idx[-1]}\")\n",
    "    print(f\"  Validation: index {val_idx[0]}..{val_idx[-1]}\")\n",
    "    print(f\"  Class distribution in validation: {np.bincount(y_train.iloc[val_idx])}\")"
   ]
  },
  {
   "cell_type": "markdown",
   "metadata": {
    "_cell_guid": "1045c67a-953b-472d-aeaa-aeb5915f8aa6",
    "_uuid": "eaad5439-970c-4dd8-9f50-b59fc3bb655d",
    "collapsed": false,
    "jupyter": {
     "outputs_hidden": false
    },
    "trusted": true
   },
   "source": [
    "## Transformasi Data (Standardisasi)"
   ]
  },
  {
   "cell_type": "code",
   "execution_count": 19,
   "metadata": {
    "_cell_guid": "54014d7c-6a74-4a9b-ac51-9a0b618f38f2",
    "_uuid": "9dc6c2cf-0780-47da-b906-57b3b4034c0d",
    "collapsed": false,
    "jupyter": {
     "outputs_hidden": false
    },
    "trusted": true
   },
   "outputs": [
    {
     "name": "stdout",
     "output_type": "stream",
     "text": [
      "\n",
      "Contoh data setelah standardisasi:\n",
      "   SK_ID_CURR  CNT_CHILDREN  AMT_INCOME_TOTAL  AMT_CREDIT  AMT_ANNUITY  \\\n",
      "0    0.841006     -0.594451         -0.349979   -0.706380    -0.866935   \n",
      "1    1.027013     -0.594451          1.222391    0.677565    -0.167082   \n",
      "2   -0.832234      2.118561          3.580945   -1.083270    -0.645022   \n",
      "3    0.374957      0.762055          0.492362    0.483705     3.433516   \n",
      "4    0.565818     -0.594451          1.334703    0.393253     0.885063   \n",
      "\n",
      "   AMT_GOODS_PRICE  REGION_POPULATION_RELATIVE  DAYS_BIRTH  DAYS_EMPLOYED  \\\n",
      "0        -0.810918                   -1.156608   -0.786805       0.117918   \n",
      "1         0.533182                    2.010613   -1.004400       2.045980   \n",
      "2        -1.074467                   -0.823734    0.611029      -0.942896   \n",
      "3         0.638601                    0.392654    0.346955      -0.254546   \n",
      "4         0.467295                   -0.641699   -0.713965      -0.304574   \n",
      "\n",
      "   DAYS_REGISTRATION  ...  WALLSMATERIAL_MODE_Others  \\\n",
      "0          -1.285717  ...                  -0.073655   \n",
      "1          -1.490032  ...                  -0.073655   \n",
      "2           0.835839  ...                  -0.073655   \n",
      "3          -0.972103  ...                  -0.073655   \n",
      "4           0.444405  ...                  -0.073655   \n",
      "\n",
      "   WALLSMATERIAL_MODE_Panel  WALLSMATERIAL_MODE_Stone, brick  \\\n",
      "0                 -0.489827                        -0.503929   \n",
      "1                 -0.489827                        -0.503929   \n",
      "2                 -0.489827                        -0.503929   \n",
      "3                 -0.489827                         1.984405   \n",
      "4                 -0.489827                        -0.503929   \n",
      "\n",
      "   WALLSMATERIAL_MODE_Wooden  EMERGENCYSTATE_MODE_Yes  CREDIT_INCOME_RATIO  \\\n",
      "0                  -0.139032                -0.090372            -0.605805   \n",
      "1                  -0.139032                -0.090372            -0.275127   \n",
      "2                  -0.139032                -0.090372            -1.340317   \n",
      "3                  -0.139032                -0.090372            -0.061991   \n",
      "4                  -0.139032                -0.090372            -0.465380   \n",
      "\n",
      "   ANNUITY_INCOME_RATIO  AGE_YEARS  WORKING_YEARS  WORKING_LIFE_RATIO  \n",
      "0             -0.747465   0.786805      -1.005129           -1.194088  \n",
      "1             -0.947205   1.004400       1.628597            1.410112  \n",
      "2             -1.518573  -0.611029       0.543672            1.217016  \n",
      "3              1.863936  -0.346955      -0.461328           -0.397822  \n",
      "4             -0.427930   0.713965      -0.388285           -0.540259  \n",
      "\n",
      "[5 rows x 162 columns]\n"
     ]
    }
   ],
   "source": [
    "# Transformasi data (standardisasi)\n",
    "scaler = StandardScaler()\n",
    "\n",
    "# Hanya fit pada data training untuk menghindari data leakage\n",
    "X_train_scaled = scaler.fit_transform(X_train)\n",
    "X_test_scaled = scaler.transform(X_test)\n",
    "\n",
    "# Konversi kembali ke DataFrame untuk mempertahankan nama kolom\n",
    "X_train_scaled = pd.DataFrame(X_train_scaled, columns=X_train.columns)\n",
    "X_test_scaled = pd.DataFrame(X_test_scaled, columns=X_test.columns)\n",
    "\n",
    "print(\"\\nContoh data setelah standardisasi:\")\n",
    "print(X_train_scaled.head())"
   ]
  },
  {
   "cell_type": "markdown",
   "metadata": {
    "_cell_guid": "b91f3932-4d9b-4022-b869-530bb6f43825",
    "_uuid": "6a4b365f-6588-427d-8d60-eb264689db5c",
    "collapsed": false,
    "jupyter": {
     "outputs_hidden": false
    },
    "trusted": true
   },
   "source": [
    "## Verifikasi Pembagian Data"
   ]
  },
  {
   "cell_type": "code",
   "execution_count": 20,
   "metadata": {
    "_cell_guid": "9e57dc15-e05d-4433-86ce-bb258263585f",
    "_uuid": "77e04ed4-4abe-4035-9214-e44a24083890",
    "collapsed": false,
    "jupyter": {
     "outputs_hidden": false
    },
    "trusted": true
   },
   "outputs": [
    {
     "data": {
      "image/png": "[encoded data removed]",
      "text/plain": [
       "<Figure size 1200x500 with 2 Axes>"
      ]
     },
     "metadata": {},
     "output_type": "display_data"
    }
   ],
   "source": [
    "# Visualisasi pembagian data\n",
    "import matplotlib.pyplot as plt\n",
    "\n",
    "plt.figure(figsize=(12, 5))\n",
    "\n",
    "# Distribusi kelas asli\n",
    "plt.subplot(1, 2, 1)\n",
    "y.value_counts().plot(kind='bar', color=['blue', 'red'])\n",
    "plt.title('Distribusi Kelas Asli')\n",
    "\n",
    "# Distribusi setelah split\n",
    "plt.subplot(1, 2, 2)\n",
    "pd.Series(y_train).value_counts().plot(kind='bar', color='blue', alpha=0.5, label='Training')\n",
    "pd.Series(y_test).value_counts().plot(kind='bar', color='red', alpha=0.5, label='Testing')\n",
    "plt.title('Distribusi Setelah Stratified Split')\n",
    "plt.legend()\n",
    "\n",
    "plt.tight_layout()\n",
    "plt.show()"
   ]
  },
  {
   "cell_type": "markdown",
   "metadata": {},
   "source": [
    "# Naïve Bayes Classification"
   ]
  },
  {
   "cell_type": "code",
   "execution_count": 23,
   "metadata": {},
   "outputs": [
    {
     "name": "stdout",
     "output_type": "stream",
     "text": [
      "Naïve Bayes 10-Fold CV Results:\n",
      "test_accuracy: 0.5824 ± 0.0032\n",
      "test_precision: 0.5671 ± 0.0026\n",
      "test_recall: 0.6966 ± 0.0037\n",
      "test_f1: 0.6252 ± 0.0029\n",
      "test_roc_auc: 0.6197 ± 0.0038\n",
      "\n",
      "\n",
      "CONFUSION MATRIX (Test Set):\n",
      "[[33063 37609]\n",
      " [21600 49071]]\n",
      "\n",
      "\n",
      "CLASSIFICATION REPORT (Test Set):\n",
      "              precision    recall  f1-score   support\n",
      "\n",
      "           0     0.6049    0.4678    0.5276     70672\n",
      "           1     0.5661    0.6944    0.6237     70671\n",
      "\n",
      "    accuracy                         0.5811    141343\n",
      "   macro avg     0.5855    0.5811    0.5757    141343\n",
      "weighted avg     0.5855    0.5811    0.5757    141343\n",
      "\n",
      "\n",
      "\n",
      "TEST SET PERFORMANCE METRICS:\n",
      "   Metric    Value\n",
      " Accuracy 0.581097\n",
      "Precision 0.566117\n",
      "   Recall 0.694358\n",
      " F1-Score 0.623714\n",
      "  ROC-AUC 0.617644\n",
      "\n",
      "\n",
      "ROC-AUC Score Interpretation: 0.6176 (Poor)\n"
     ]
    }
   ],
   "source": [
    "import pandas as pd\n",
    "from sklearn.naive_bayes import GaussianNB\n",
    "from sklearn.model_selection import cross_validate\n",
    "from sklearn.metrics import accuracy_score, confusion_matrix, classification_report\n",
    "\n",
    "# Inisialisasi model\n",
    "nb = GaussianNB()\n",
    "\n",
    "# 10-fold Cross Validation\n",
    "cv_results = cross_validate(\n",
    "    nb, X_train, y_train, cv=skf,\n",
    "    scoring=['accuracy', 'precision', 'recall', 'f1', 'roc_auc']\n",
    ")\n",
    "\n",
    "# Cross Validation\n",
    "print(\"Naïve Bayes 10-Fold CV Results:\")\n",
    "for metric in ['test_accuracy', 'test_precision', 'test_recall', 'test_f1', 'test_roc_auc']:\n",
    "    print(f\"{metric}: {np.mean(cv_results[metric]):.4f} ± {np.std(cv_results[metric]):.4f}\")\n",
    "\n",
    "print(\"\\n\")\n",
    "\n",
    "# Evaluasi pada test set\n",
    "nb.fit(X_train, y_train)\n",
    "y_pred = nb.predict(X_test)\n",
    "y_proba = nb.predict_proba(X_test)[:, 1]\n",
    "\n",
    "# Confusion Matrix\n",
    "print(\"CONFUSION MATRIX (Test Set):\")\n",
    "print(confusion_matrix(y_test, y_pred))\n",
    "print(\"\\n\")\n",
    "\n",
    "# Classification Report\n",
    "print(\"CLASSIFICATION REPORT (Test Set):\")\n",
    "print(classification_report(y_test, y_pred, digits=4))\n",
    "print(\"\\n\")\n",
    "\n",
    "# Metrics Tambahan\n",
    "test_metrics = pd.DataFrame({\n",
    "    'Metric': ['Accuracy', 'Precision', 'Recall', 'F1-Score', 'ROC-AUC'],\n",
    "    'Value': [accuracy_score(y_test, y_pred),\n",
    "              precision_score(y_test, y_pred),\n",
    "              recall_score(y_test, y_pred),\n",
    "              f1_score(y_test, y_pred),\n",
    "              roc_auc_score(y_test, y_proba)]\n",
    "})\n",
    "\n",
    "print(\"TEST SET PERFORMANCE METRICS:\")\n",
    "print(test_metrics.to_string(index=False))\n",
    "print(\"\\n\")\n",
    "\n",
    "# ROC-AUC Interpretation\n",
    "roc_value = roc_auc_score(y_test, y_proba)\n",
    "roc_interpretation = \"Excellent\" if roc_value >= 0.9 else \\\n",
    "                     \"Good\" if roc_value >= 0.8 else \\\n",
    "                     \"Fair\" if roc_value >= 0.7 else \\\n",
    "                     \"Poor\"\n",
    "print(f\"ROC-AUC Score Interpretation: {roc_value:.4f} ({roc_interpretation})\")"
   ]
  }
 ],
 "metadata": {
  "kaggle": {
   "accelerator": "none",
   "dataSources": [
    {
     "databundleVersionId": 860599,
     "sourceId": 9120,
     "sourceType": "competition"
    }
   ],
   "dockerImageVersionId": 31012,
   "isGpuEnabled": false,
   "isInternetEnabled": false,
   "language": "python",
   "sourceType": "notebook"
  },
  "kernelspec": {
   "display_name": "Python 3",
   "language": "python",
   "name": "python3"
  },
  "language_info": {
   "codemirror_mode": {
    "name": "ipython",
    "version": 3
   },
   "file_extension": ".py",
   "mimetype": "text/x-python",
   "name": "python",
   "nbconvert_exporter": "python",
   "pygments_lexer": "ipython3",
   "version": "3.12.2"
  }
 },
 "nbformat": 4,
 "nbformat_minor": 4
}
